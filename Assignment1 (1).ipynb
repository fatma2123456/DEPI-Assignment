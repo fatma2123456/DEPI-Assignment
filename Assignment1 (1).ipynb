{
  "cells": [
    {
      "cell_type": "markdown",
      "metadata": {
        "id": "ep6HU8dlzIGk"
      },
      "source": [
        "# Assignment 1 - Python Basics Practice\n",
        "\n",
        "In this assignment, you'll get to practice some of the concepts and skills covered in the following notebooks:\n",
        "\n",
        "1. First Steps with Python and Jupyter\n",
        "2. A Quick Tour of Variables and Data Types\n",
        "3. Branching using Conditional Statements\n",
        "\n",
        "As you go through this notebook, you will find a **???** in certain places. To complete this assignment, you must replace all the **???** with appropriate values, expressions or statements to ensure that the notebook runs properly end-to-end.\n",
        "\n"
      ]
    },
    {
      "cell_type": "markdown",
      "metadata": {
        "id": "lpjUmc5UzIGu"
      },
      "source": [
        "## Problem 1 - Variables and Data Types\n",
        "\n",
        "**Q: Assign your name to the variable `name`.**"
      ]
    },
    {
      "cell_type": "code",
      "execution_count": 1,
      "metadata": {
        "id": "0hZVvSfUzIGv",
        "trusted": true
      },
      "outputs": [],
      "source": [
        "name = \"Fatma Elzhraa\""
      ]
    },
    {
      "cell_type": "markdown",
      "metadata": {
        "id": "fuTCxPzZzIGw"
      },
      "source": [
        "**Q: Assign your age (real or fake) to the variable `age`.**"
      ]
    },
    {
      "cell_type": "code",
      "execution_count": 2,
      "metadata": {
        "collapsed": true,
        "id": "GHtjR4iBzIGx",
        "trusted": true
      },
      "outputs": [],
      "source": [
        "age = 21"
      ]
    },
    {
      "cell_type": "markdown",
      "metadata": {
        "id": "9DsWh9GWzIGy"
      },
      "source": [
        "**Q: Assign a boolean value to the variable `has_android_phone`.**"
      ]
    },
    {
      "cell_type": "code",
      "execution_count": 4,
      "metadata": {
        "id": "xJ4S2o1fzIGy",
        "trusted": true
      },
      "outputs": [],
      "source": [
        "has_android_phone = True"
      ]
    },
    {
      "cell_type": "markdown",
      "metadata": {
        "id": "PnBl8zZazIGz"
      },
      "source": [
        "You can check the values of these variables by running the next cell."
      ]
    },
    {
      "cell_type": "code",
      "execution_count": 5,
      "metadata": {
        "id": "D4cP0zIVzIGz",
        "trusted": true,
        "colab": {
          "base_uri": "https://localhost:8080/"
        },
        "outputId": "674adfde-8ff7-4066-db5e-0603f9e27ee0"
      },
      "outputs": [
        {
          "output_type": "execute_result",
          "data": {
            "text/plain": [
              "('Fatma Elzhraa', 21, True)"
            ]
          },
          "metadata": {},
          "execution_count": 5
        }
      ],
      "source": [
        "name, age, has_android_phone"
      ]
    },
    {
      "cell_type": "markdown",
      "metadata": {
        "id": "Km4H2IDAzIG0"
      },
      "source": [
        "**Q: Create a dictionary `person` with keys `\"Name\"`, `\"Age\"`, `\"HasAndroidPhone\"` and values using the variables defined above.**"
      ]
    },
    {
      "cell_type": "code",
      "execution_count": 7,
      "metadata": {
        "id": "zDSfduyczIG0",
        "trusted": true
      },
      "outputs": [],
      "source": [
        "person={\n",
        "    \"Name\":[\"Fatma Elzhraa\",\"Ahemd\",\"Omer\",\"Mohned\"],\n",
        "    \"Age\":[21,55,18,8],\n",
        "    \"HasAndroidPhone\":[False,True,False,False]\n",
        "}"
      ]
    },
    {
      "cell_type": "markdown",
      "metadata": {
        "id": "4CT3vukozIG1"
      },
      "source": [
        "Let's use the `person` dictionary to print a nice message."
      ]
    },
    {
      "cell_type": "code",
      "execution_count": 8,
      "metadata": {
        "id": "RvFVY4LGzIG1",
        "trusted": true,
        "colab": {
          "base_uri": "https://localhost:8080/"
        },
        "outputId": "23c10be4-c35f-4c61-e593-dcba844622db"
      },
      "outputs": [
        {
          "output_type": "stream",
          "name": "stdout",
          "text": [
            "Name: Fatma Elzhraa , Age: 21 , HasAndroidPhone: False\n",
            "Name: Ahemd , Age: 55 , HasAndroidPhone: True\n",
            "Name: Omer , Age: 18 , HasAndroidPhone: False\n",
            "Name: Mohned , Age: 8 , HasAndroidPhone: False\n"
          ]
        }
      ],
      "source": [
        "for i in range(len(person[\"Name\"])):\n",
        "  print(\"Name:\",person[\"Name\"][i],\", Age:\",person[\"Age\"][i],\", HasAndroidPhone:\",person[\"HasAndroidPhone\"][i])"
      ]
    },
    {
      "cell_type": "markdown",
      "metadata": {
        "id": "dRWVEOgZzIG1"
      },
      "source": [
        "**Q (Optional): Use a `for` loop to display the `type` of each value stored against each key in `person`.**\n",
        "\n",
        "Here's the expected output for the key `\"Name\"`:\n",
        "\n",
        "```\n",
        "The key \"Name\" has the value \"Derek\" of the type \"<class 'str'>\"\n",
        "```"
      ]
    },
    {
      "cell_type": "code",
      "source": [
        "for i in range(len(person[\"Name\"])):\n",
        " print(f\"The key 'Name' value ---> {person['Name'][i]}, type ---> {type(person['Name'][i])}\")"
      ],
      "metadata": {
        "colab": {
          "base_uri": "https://localhost:8080/"
        },
        "id": "srLCVhN12Oo7",
        "outputId": "7e5cc4fa-ae78-4839-f4b8-c05448362a82"
      },
      "execution_count": 17,
      "outputs": [
        {
          "output_type": "stream",
          "name": "stdout",
          "text": [
            "The key 'Name' value ---> Fatma Elzhraa, type ---> <class 'str'>\n",
            "The key 'Name' value ---> Ahemd, type ---> <class 'str'>\n",
            "The key 'Name' value ---> Omer, type ---> <class 'str'>\n",
            "The key 'Name' value ---> Mohned, type ---> <class 'str'>\n"
          ]
        }
      ]
    },
    {
      "cell_type": "code",
      "source": [
        "for i in range(len(person[\"Age\"])):\n",
        " print(f\"The key 'Age' value ---> {person['Age'][i]}, type ---> {type(person['Age'][i])}\")"
      ],
      "metadata": {
        "colab": {
          "base_uri": "https://localhost:8080/"
        },
        "id": "pyvhrZf92ZUQ",
        "outputId": "652f3e42-591d-49cc-f3f1-3cfcef0fd0a4"
      },
      "execution_count": 19,
      "outputs": [
        {
          "output_type": "stream",
          "name": "stdout",
          "text": [
            "The key 'Age' value ---> 21, type ---> <class 'int'>\n",
            "The key 'Age' value ---> 55, type ---> <class 'int'>\n",
            "The key 'Age' value ---> 18, type ---> <class 'int'>\n",
            "The key 'Age' value ---> 8, type ---> <class 'int'>\n"
          ]
        }
      ]
    },
    {
      "cell_type": "code",
      "source": [
        "for i in range(len(person[\"HasAndroidPhone\"])):\n",
        " print(f\"The key 'HasAndroidPhone' value ---> {person['HasAndroidPhone'][i]}, type ---> {type(person['HasAndroidPhone'][i])}\")"
      ],
      "metadata": {
        "colab": {
          "base_uri": "https://localhost:8080/"
        },
        "id": "9S4l7zuQ2iBv",
        "outputId": "01405e7c-7e5b-4340-cfdd-bdb19f93af9a"
      },
      "execution_count": 20,
      "outputs": [
        {
          "output_type": "stream",
          "name": "stdout",
          "text": [
            "The key 'HasAndroidPhone' value ---> False, type ---> <class 'bool'>\n",
            "The key 'HasAndroidPhone' value ---> True, type ---> <class 'bool'>\n",
            "The key 'HasAndroidPhone' value ---> False, type ---> <class 'bool'>\n",
            "The key 'HasAndroidPhone' value ---> False, type ---> <class 'bool'>\n"
          ]
        }
      ]
    },
    {
      "cell_type": "code",
      "source": [
        "print(type(person.keys()))\n",
        "print(type(list(person.keys())))"
      ],
      "metadata": {
        "colab": {
          "base_uri": "https://localhost:8080/"
        },
        "id": "LmaY8qjC4Rrf",
        "outputId": "faf3667b-894b-4453-feae-582fb8be3708"
      },
      "execution_count": 27,
      "outputs": [
        {
          "output_type": "stream",
          "name": "stdout",
          "text": [
            "<class 'dict_keys'>\n",
            "<class 'list'>\n"
          ]
        }
      ]
    },
    {
      "cell_type": "code",
      "source": [
        "print(type(person.values()))"
      ],
      "metadata": {
        "colab": {
          "base_uri": "https://localhost:8080/"
        },
        "id": "FaLcZNbt4dRx",
        "outputId": "dea7ac13-1f4e-4742-8b5b-c6dd4447a359"
      },
      "execution_count": 26,
      "outputs": [
        {
          "output_type": "stream",
          "name": "stdout",
          "text": [
            "<class 'dict_values'>\n"
          ]
        }
      ]
    },
    {
      "cell_type": "code",
      "source": [
        "keys=list(person.keys())\n",
        "values=list(person.values())"
      ],
      "metadata": {
        "id": "pluDWTtZ8oSw"
      },
      "execution_count": 29,
      "outputs": []
    },
    {
      "cell_type": "code",
      "source": [
        "for i in range(len(keys)):\n",
        "  key=keys[i]\n",
        "  value=values[i]\n",
        "  print(f\"The key is '{key}' and the value is {value}\")\n",
        "  for j in range(len(value)):\n",
        "    value_in=value[j]\n",
        "    print(f\"value is {value_in} and the type is {type(value_in)}\")\n",
        "  print(\"_______________________________________________________\")"
      ],
      "metadata": {
        "colab": {
          "base_uri": "https://localhost:8080/"
        },
        "id": "cucC11ON2oN5",
        "outputId": "de18970c-f1f5-4d3c-dbe0-ae3c17092dc3"
      },
      "execution_count": 31,
      "outputs": [
        {
          "output_type": "stream",
          "name": "stdout",
          "text": [
            "The key is 'Name' and the value is ['Fatma Elzhraa', 'Ahemd', 'Omer', 'Mohned']\n",
            "value is Fatma Elzhraa and the type is <class 'str'>\n",
            "value is Ahemd and the type is <class 'str'>\n",
            "value is Omer and the type is <class 'str'>\n",
            "value is Mohned and the type is <class 'str'>\n",
            "_______________________________________________________\n",
            "The key is 'Age' and the value is [21, 55, 18, 8]\n",
            "value is 21 and the type is <class 'int'>\n",
            "value is 55 and the type is <class 'int'>\n",
            "value is 18 and the type is <class 'int'>\n",
            "value is 8 and the type is <class 'int'>\n",
            "_______________________________________________________\n",
            "The key is 'HasAndroidPhone' and the value is [False, True, False, False]\n",
            "value is False and the type is <class 'bool'>\n",
            "value is True and the type is <class 'bool'>\n",
            "value is False and the type is <class 'bool'>\n",
            "value is False and the type is <class 'bool'>\n",
            "_______________________________________________________\n"
          ]
        }
      ]
    },
    {
      "cell_type": "markdown",
      "metadata": {
        "id": "fucfLcVhzIG2"
      },
      "source": [
        "## Problem 2 - Working with Lists\n",
        "\n",
        "**Q: Create a list containing the following 3 elements:**\n",
        "\n",
        "* your favorite color\n",
        "* the number of pets you have\n",
        "* a boolean value describing whether you have previous programming experience\n"
      ]
    },
    {
      "cell_type": "code",
      "execution_count": 32,
      "metadata": {
        "id": "CT3nXqKdzIG3",
        "trusted": true
      },
      "outputs": [],
      "source": [
        "l=[\"Pink\",0,True]"
      ]
    },
    {
      "cell_type": "markdown",
      "metadata": {
        "id": "_EhSdP2zzIG3"
      },
      "source": [
        "Let's see what the list looks like:"
      ]
    },
    {
      "cell_type": "code",
      "execution_count": 33,
      "metadata": {
        "id": "-5r7WddMzIG3",
        "trusted": true,
        "colab": {
          "base_uri": "https://localhost:8080/"
        },
        "outputId": "ac687759-9338-4e0e-ab14-2864368d116a"
      },
      "outputs": [
        {
          "output_type": "stream",
          "name": "stdout",
          "text": [
            "['Pink', 0, True]\n"
          ]
        }
      ],
      "source": [
        "print(l)"
      ]
    },
    {
      "cell_type": "markdown",
      "metadata": {
        "id": "xftiO_ctzIG3"
      },
      "source": [
        "**Q: Complete the following `print` and `if` statements by accessing the appropriate elements from `my_list`.**\n",
        "\n",
        "*Hint*: Use the list indexing notation `[]`."
      ]
    },
    {
      "cell_type": "code",
      "execution_count": 34,
      "metadata": {
        "id": "BgG8HSLOzIG4",
        "trusted": true,
        "colab": {
          "base_uri": "https://localhost:8080/"
        },
        "outputId": "f09c6b91-4134-450b-d468-10e21c9a35a5"
      },
      "outputs": [
        {
          "output_type": "stream",
          "name": "stdout",
          "text": [
            "My favorite color is Pink\n"
          ]
        }
      ],
      "source": [
        "print('My favorite color is', l[0])"
      ]
    },
    {
      "cell_type": "code",
      "execution_count": 35,
      "metadata": {
        "id": "mSejRSJwzIG4",
        "trusted": true,
        "colab": {
          "base_uri": "https://localhost:8080/"
        },
        "outputId": "6242042c-6856-4535-eabd-bcb8c8cc5a50"
      },
      "outputs": [
        {
          "output_type": "stream",
          "name": "stdout",
          "text": [
            "I have 0 pets\n"
          ]
        }
      ],
      "source": [
        "print(f\"I have {l[1]} pets\")"
      ]
    },
    {
      "cell_type": "code",
      "execution_count": 36,
      "metadata": {
        "id": "XbNZO87EzIG4",
        "trusted": true,
        "colab": {
          "base_uri": "https://localhost:8080/"
        },
        "outputId": "24e94f9d-7eb9-458d-a70f-dee01faa905a"
      },
      "outputs": [
        {
          "output_type": "stream",
          "name": "stdout",
          "text": [
            "I have programming experience.\n"
          ]
        }
      ],
      "source": [
        "if l[2]==True:\n",
        "  print(\"I have programming experience.\")\n",
        "else:\n",
        "  print(\"I have not programming experience.\")"
      ]
    },
    {
      "cell_type": "markdown",
      "metadata": {
        "id": "U1aNEFfqzIG5"
      },
      "source": [
        "**Q: Add your favorite single digit number to the end of the list using the appropriate list method.**"
      ]
    },
    {
      "cell_type": "code",
      "execution_count": 37,
      "metadata": {
        "id": "6N-YBHZSzIG5",
        "trusted": true
      },
      "outputs": [],
      "source": [
        "l.append(9)"
      ]
    },
    {
      "cell_type": "markdown",
      "metadata": {
        "id": "8XqvGa_BzIG6"
      },
      "source": [
        "Let's see if the number shows up in the list."
      ]
    },
    {
      "cell_type": "code",
      "execution_count": 38,
      "metadata": {
        "id": "wzRE1vYfzIG6",
        "trusted": true,
        "colab": {
          "base_uri": "https://localhost:8080/"
        },
        "outputId": "9107ed5f-b2e6-47d4-a42f-170e23ca708b"
      },
      "outputs": [
        {
          "output_type": "execute_result",
          "data": {
            "text/plain": [
              "['Pink', 0, True, 9]"
            ]
          },
          "metadata": {},
          "execution_count": 38
        }
      ],
      "source": [
        "l"
      ]
    },
    {
      "cell_type": "markdown",
      "metadata": {
        "id": "FBZkgEcNzIG6"
      },
      "source": [
        "**Q: Remove the first element of the list, using the appropriate list method.**\n",
        "\n",
        "*Hint*: Check out methods of list here: https://www.w3schools.com/python/python_ref_list.asp"
      ]
    },
    {
      "cell_type": "code",
      "execution_count": 39,
      "metadata": {
        "id": "PmD6oW4vzIG7",
        "trusted": true,
        "colab": {
          "base_uri": "https://localhost:8080/",
          "height": 35
        },
        "outputId": "fb7f204b-d498-4baf-c397-0fdbf0790099"
      },
      "outputs": [
        {
          "output_type": "execute_result",
          "data": {
            "text/plain": [
              "'Pink'"
            ],
            "application/vnd.google.colaboratory.intrinsic+json": {
              "type": "string"
            }
          },
          "metadata": {},
          "execution_count": 39
        }
      ],
      "source": [
        "l.pop(0)"
      ]
    },
    {
      "cell_type": "code",
      "execution_count": 40,
      "metadata": {
        "id": "NeSHD2i2zIG7",
        "trusted": true,
        "colab": {
          "base_uri": "https://localhost:8080/"
        },
        "outputId": "c99bbf54-0105-49ff-f2e5-e7b69f447d08"
      },
      "outputs": [
        {
          "output_type": "execute_result",
          "data": {
            "text/plain": [
              "[0, True, 9]"
            ]
          },
          "metadata": {},
          "execution_count": 40
        }
      ],
      "source": [
        "l"
      ]
    },
    {
      "cell_type": "markdown",
      "metadata": {
        "id": "oOIyqmGgzIG8"
      },
      "source": [
        "**Q: Complete the `print` statement below to display the number of elements in `my_list`.**"
      ]
    },
    {
      "cell_type": "code",
      "execution_count": 41,
      "metadata": {
        "id": "vT3qR0bZzIG8",
        "trusted": true,
        "colab": {
          "base_uri": "https://localhost:8080/"
        },
        "outputId": "4d62f2b9-a9d8-45f8-97cc-2ade541473c3"
      },
      "outputs": [
        {
          "output_type": "stream",
          "name": "stdout",
          "text": [
            "[0, True, 9]\n"
          ]
        }
      ],
      "source": [
        "my_list=l\n",
        "print(my_list)"
      ]
    },
    {
      "cell_type": "markdown",
      "metadata": {
        "id": "0VviWrMGzIHF"
      },
      "source": [
        "## Problem 3 - Conditions and loops\n",
        "\n",
        "**Q: Calculate and display the sum of all the numbers divisible by 7 between 18 and 534 i.e. `21+28+35+...+525+532`**.\n",
        "\n",
        "*Hint*: One way to do this is to loop over a `range` using `for` and use an `if` statement inside it."
      ]
    },
    {
      "cell_type": "code",
      "execution_count": 42,
      "metadata": {
        "id": "yoSd-n1ZzIHG",
        "trusted": true
      },
      "outputs": [],
      "source": [
        "# store the final answer in this variable\n",
        "sum_of_numbers = 0\n",
        "\n",
        "# perform the calculation here\n",
        "for i in range(18,535):\n",
        "  if i%7==0:\n",
        "    sum_of_numbers+=i"
      ]
    },
    {
      "cell_type": "code",
      "execution_count": 43,
      "metadata": {
        "id": "aKegz1CezIHG",
        "trusted": true,
        "colab": {
          "base_uri": "https://localhost:8080/"
        },
        "outputId": "3c4d7885-02fa-4041-fcb1-09bef1cf80ed"
      },
      "outputs": [
        {
          "output_type": "stream",
          "name": "stdout",
          "text": [
            "The sum of all the numbers divisible by 7 between 18 and 534 is 20461\n"
          ]
        }
      ],
      "source": [
        "print('The sum of all the numbers divisible by 7 between 18 and 534 is', sum_of_numbers)"
      ]
    },
    {
      "cell_type": "markdown",
      "metadata": {
        "id": "R_ch7CO9zIHK"
      },
      "source": [
        "## Problem 4 - Flying to the Bahamas\n",
        "\n",
        "**Q: A travel company wants to fly a plane to the Bahamas. Flying the plane costs 5000 dollars. So far, 29 people have signed up for the trip. If the company charges 200 dollars per ticket, what is the profit made by the company?**\n",
        "\n",
        "Fill in values or arithmetic expressions for the variables below."
      ]
    },
    {
      "cell_type": "code",
      "execution_count": 44,
      "metadata": {
        "id": "qrbiUfr7zIHK",
        "trusted": true
      },
      "outputs": [],
      "source": [
        "cost_of_flying_plane =5000"
      ]
    },
    {
      "cell_type": "code",
      "execution_count": 45,
      "metadata": {
        "id": "aCdLh-0pzIHL",
        "trusted": true
      },
      "outputs": [],
      "source": [
        "number_of_passengers =29"
      ]
    },
    {
      "cell_type": "code",
      "execution_count": 46,
      "metadata": {
        "id": "_pZYiawizIHM",
        "trusted": true
      },
      "outputs": [],
      "source": [
        "price_of_ticket =200"
      ]
    },
    {
      "cell_type": "code",
      "execution_count": 48,
      "metadata": {
        "id": "bq31J0NfzIHM",
        "trusted": true,
        "colab": {
          "base_uri": "https://localhost:8080/"
        },
        "outputId": "9ee54420-4e42-4b42-b7e2-61b7455b6b76"
      },
      "outputs": [
        {
          "output_type": "stream",
          "name": "stdout",
          "text": [
            "5800\n"
          ]
        }
      ],
      "source": [
        "revenue =number_of_passengers*price_of_ticket\n",
        "print(revenue)"
      ]
    },
    {
      "cell_type": "code",
      "execution_count": 53,
      "metadata": {
        "id": "pcF4HG-RzIHM",
        "trusted": true,
        "colab": {
          "base_uri": "https://localhost:8080/"
        },
        "outputId": "5f9dddc4-c02e-43b5-cbd9-b6e630479a77"
      },
      "outputs": [
        {
          "output_type": "stream",
          "name": "stdout",
          "text": [
            "The company makes of a profit of 800 dollars\n"
          ]
        }
      ],
      "source": [
        "profit =revenue-cost_of_flying_plane\n",
        "print('The company makes of a profit of {} dollars'.format(profit))"
      ]
    },
    {
      "cell_type": "markdown",
      "metadata": {
        "id": "4GVMcd0tzIHN"
      },
      "source": [
        "**Q : Out of the 29 people who took the flight, only 12 buy tickets to return from the Bahamas on the same plane. If the flying the plane back also costs 5000 dollars, and does the company make an overall profit or loss? The company charges the same fee of 200 dollars per ticket for the return flight.**\n",
        "\n",
        "Use an `if` statement to display the result."
      ]
    },
    {
      "cell_type": "code",
      "execution_count": 51,
      "metadata": {
        "id": "eJgKVIrVzIHN",
        "trusted": true,
        "colab": {
          "base_uri": "https://localhost:8080/"
        },
        "outputId": "24185dfe-775e-44b6-d1d2-57bdfe7f5348"
      },
      "outputs": [
        {
          "output_type": "stream",
          "name": "stdout",
          "text": [
            "-2600\n"
          ]
        }
      ],
      "source": [
        "# this is optional\n",
        "return_passengers = 12\n",
        "return_profit = (return_passengers*price_of_ticket)-cost_of_flying_plane\n",
        "print(return_profit)"
      ]
    },
    {
      "cell_type": "code",
      "execution_count": 54,
      "metadata": {
        "id": "rpOjC8WkzIHN",
        "trusted": true,
        "colab": {
          "base_uri": "https://localhost:8080/"
        },
        "outputId": "1e8ed757-8dd8-450a-a7dd-443ef284f568"
      },
      "outputs": [
        {
          "output_type": "stream",
          "name": "stdout",
          "text": [
            "The company makes an overall loss of 2600 dollars\n"
          ]
        }
      ],
      "source": [
        "# this is optional\n",
        "if return_profit > 0:\n",
        "    print(\"The company makes an overall profit of {} dollars\".format(return_profit))\n",
        "else:\n",
        "    print(\"The company makes an overall loss of {} dollars\".format(abs(return_profit)))"
      ]
    }
  ],
  "metadata": {
    "colab": {
      "provenance": []
    },
    "kernelspec": {
      "display_name": "mlops-app",
      "language": "python",
      "name": "python3"
    },
    "language_info": {
      "codemirror_mode": {
        "name": "ipython",
        "version": 3
      },
      "file_extension": ".py",
      "mimetype": "text/x-python",
      "name": "python",
      "nbconvert_exporter": "python",
      "pygments_lexer": "ipython3",
      "version": "3.8.19"
    }
  },
  "nbformat": 4,
  "nbformat_minor": 0
}