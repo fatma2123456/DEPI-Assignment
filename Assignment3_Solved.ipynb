{
  "cells": [
    {
      "cell_type": "markdown",
      "metadata": {
        "vscode": {
          "languageId": "plaintext"
        },
        "id": "wcJN57a5W7jk"
      },
      "source": [
        "# Assignment3 : **Linear Algebra, Statistics using Classes**\n",
        "\n",
        "**Goal and Objective:**\n",
        "\n",
        "In this notebook, you will combine core concepts from **Linear Algebra**, **Statistics** using Python classes. You will implement key operations for matrices, vectors, and descriotive statistical operations. The goal is to reinforce your understanding of mathematical and statistical methods, all while practicing object-oriented programming.\n",
        "\n",
        "**Learning Objectives:**\n",
        "- Understand and implement key **Linear Algebra** operations using classes in Python.\n",
        "- Perform **statistical analysis** using Python classes to compute common statistics.\n",
        "- Use **object-oriented principles** to structure the code effectively.\n",
        "- Only allowd to use pure python ,numpy , and math if needed.\n",
        "\n",
        "### **Guidelines**\n",
        "\n",
        "#### **Requirements (Musts):**\n",
        "1. Avoid using ChatGPT or similar LLM tools for problem-solving. You may, however, use these tools for clarifications or guidance if you're stuck.\n",
        "2. Provide **clear comments** in your code to explain your logic and include **docstrings** for all functions.\n",
        "3. Use only the provided test cases to validate your implementations. Avoid creating additional examples.\n",
        "4. Include **error handling** for scenarios like incompatible matrix sizes or invalid inputs.\n",
        "\n",
        "#### **Recommendations:**\n",
        "1. Use **Numpy** for handling matrices and vectors where applicable instead of lists.\n",
        "2. Validate input data to ensure it meets the expected criteria (e.g., correct data types, non-empty data).\n",
        "3. Implement the `__str__` method for a user-friendly string representation of your objects.\n",
        "4. Use the `return` keyword for methods where results might need to be accessed externally.\n",
        "5. Use **descriptive** attributes and method names.\n",
        "6. Add **descriptive comments** to clarify your thought process in implementing each method.\n",
        "\n",
        "\n",
        "### **Submission Instructions**\n",
        "1. Submit your work as a single `.ipynb` file within the notebook provided.\n",
        "2. Do not compress the file unless specifically required by the LMS.\n",
        "3. Ensure all cells are executed, and your code runs without errors. Include outputs for all test cases.\n",
        "4. Retain the outputs in your submission; avoid clearing them before finalizing your work."
      ]
    },
    {
      "cell_type": "markdown",
      "metadata": {
        "id": "HDpNotsAW7jo"
      },
      "source": [
        "-----\n",
        "# **Assignment Questions**"
      ]
    },
    {
      "cell_type": "markdown",
      "metadata": {
        "vscode": {
          "languageId": "plaintext"
        },
        "id": "adLTT5kQW7jp"
      },
      "source": [
        "### **Q1: Vector Operation in Linear Algebra with Python Classes**\n",
        "\n",
        "**Objective**  \n",
        "In this task, you are required to create a `Vector` class that supports essential vector operations. Each method should follow the principles of **Linear Algebra** while also ensuring proper validation of inputs.\n",
        "\n",
        "**Initialization**: Accept a list or tuple representing a vector.\n",
        "\n",
        "**Methods to Implement**:\n",
        "  - `add`: Adds two vectors.\n",
        "  - `subtract`: Subtracts two vectors.\n",
        "  - `dot`: Compute the dot product with another vector.\n",
        "  - `magnitude`: Computes the magnitude (Euclidean norm) of a vector.\n",
        "  - `scalar_multiply`: Multiplies a vector by a scalar.\n",
        "  - `normalize`: Return a normalized version of the vector.\n",
        "\n",
        "> **It is essential** to verify the Linear Algebra conditions for each method before performing the operation, and raise an error if the conditions are not met. For example: check the size of the matrix for multiplication.\n"
      ]
    },
    {
      "cell_type": "code",
      "source": [
        "def add (data ,other):\n",
        "        for i in range(len(data)):\n",
        "            data[i] += other[i]\n",
        "        print(data)"
      ],
      "metadata": {
        "id": "S8PAso4RZB9I"
      },
      "execution_count": 21,
      "outputs": []
    },
    {
      "cell_type": "code",
      "source": [
        "add([1, 2, 3], [4, 5, 6])"
      ],
      "metadata": {
        "colab": {
          "base_uri": "https://localhost:8080/"
        },
        "id": "hMByk4oPZJpq",
        "outputId": "061dc9fa-7489-44ec-85b0-0575f79ffb1d"
      },
      "execution_count": 22,
      "outputs": [
        {
          "output_type": "stream",
          "name": "stdout",
          "text": [
            "[5, 7, 9]\n"
          ]
        }
      ]
    },
    {
      "cell_type": "code",
      "execution_count": 31,
      "metadata": {
        "id": "wxt95ezWW7jp"
      },
      "outputs": [],
      "source": [
        "# TODO: Implement your Vector Class\n",
        "class Vector:\n",
        "    def __init__(self, data):\n",
        "        self.data = data\n",
        "    def add (self, other):\n",
        "        result = []\n",
        "        for i in range(len(self.data)):\n",
        "            result.append(self.data[i] + other.data[i])\n",
        "        return result\n",
        "    def subtract(self, other):\n",
        "        result = []\n",
        "        for i in range(len(self.data)):\n",
        "            result.append(self.data[i] - other.data[i])\n",
        "        return result\n",
        "    def dot(self, other):\n",
        "        result = 0\n",
        "        for i in range(len(self.data)):\n",
        "            result += self.data[i] * other.data[i]\n",
        "        return result\n",
        "    def magnitude(self):\n",
        "        result = 0\n",
        "        for i in range(len(self.data)):\n",
        "            result += self.data[i] ** 2\n",
        "        return result ** 0.5\n",
        "    def scalar_multiply(self, scalar):\n",
        "        result = []\n",
        "        for i in range(len(self.data)):\n",
        "            result.append(self.data[i] * scalar)\n",
        "        return result\n",
        "    def normalize(self):\n",
        "        result = []\n",
        "        for i in range(len(self.data)):\n",
        "            result.append(self.data[i] / self.magnitude())\n",
        "        return result"
      ]
    },
    {
      "cell_type": "code",
      "execution_count": 32,
      "metadata": {
        "colab": {
          "base_uri": "https://localhost:8080/"
        },
        "id": "rAtlHiAeW7jq",
        "outputId": "703b2e73-520b-478a-a266-4be548ecf44d"
      },
      "outputs": [
        {
          "output_type": "stream",
          "name": "stdout",
          "text": [
            "v1+v2: [5, 7, 9]\n",
            "v1-v2 : [-3, -3, -3]\n",
            "Magnitude of v1: 3.7416573867739413\n",
            "v1 * 2: [2, 4, 6]\n"
          ]
        }
      ],
      "source": [
        "# Test all the operation on Vector Class\n",
        "v1 = Vector([1, 2, 3])  # or Vector((1, 2, 3)) but don't use numpy in this line\n",
        "v2 = Vector((4, 5, 6))  # or Vector((1, 2, 3)) but don't use numpy in this line\n",
        "\n",
        "# TODO:  Add two vectors\n",
        "result = v1.add(v2)\n",
        "print(\"v1+v2:\", result)                 # Expected: Vector([5, 7, 9])\n",
        "\n",
        "# TODO: Subtract two vectors\n",
        "result = v1.subtract(v2)\n",
        "print(\"v1-v2 :\", result)                # Expected: Vector([-3, -3, -3])\n",
        "\n",
        "# TODO: Magnitude of vector v1\n",
        "result = v1.magnitude()\n",
        "print(\"Magnitude of v1:\", result)       # Expected: 3.7416573867739413\n",
        "\n",
        "# TODO: Scalar multiplication of vector v1 by 2\n",
        "result = v1.scalar_multiply(2)\n",
        "print(\"v1 * 2:\", result)  # Expected: Vector([2, 4, 6])"
      ]
    },
    {
      "cell_type": "markdown",
      "metadata": {
        "id": "fJheSRvVW7jq"
      },
      "source": [
        "### **Q2: Matrix Operation in Linear Algebra with Python Classes**\n",
        "**Objective**  \n",
        "In this task, you are required to create a `Matrix` class that can represent matrices and support a range of matrix operations. Here's the breakdown of the requirements:\n",
        "\n",
        "**Initialization**: Accept a 2D list or nested list as matrix input.\n",
        "**Methods to Implement**:\n",
        "  - `add`: Adds two matrices.\n",
        "  - `sub`: Substracts two matrices.\n",
        "  - `multiply`: Multiplies two matrices.\n",
        "  - `scalar_multiply`: multiply a matrix by scaler.\n",
        "  - `transpose`: Transposes the matrix.\n",
        "  - `determinant`: Calculates the determinant.\n",
        "  - `inverse`: Computes the inverse of a matrix.\n",
        "\n",
        "> **It is essential** to verify the Linear Algebra conditions for each method before performing the operation, and raise an error if the conditions are not met. For example: check the size of the matrix for multiplication.\n"
      ]
    },
    {
      "cell_type": "code",
      "execution_count": 44,
      "metadata": {
        "id": "Wm96uCLbW7jr"
      },
      "outputs": [],
      "source": [
        "# TODO: Implement you Vector Class\n",
        "class Matrix:\n",
        "    def __init__(self, data):\n",
        "        self.data = data\n",
        "    def add (self, other):\n",
        "        result = []\n",
        "        for r in range(len(self.data)):\n",
        "            row=[]\n",
        "            for c in range(len(self.data[0])):\n",
        "                row.append(self.data[r][c] + other.data[r][c])\n",
        "            result.append(row)\n",
        "        return result\n",
        "    def subtract(self, other):\n",
        "        result = []\n",
        "        for r in range(len(self.data)):\n",
        "            row=[]\n",
        "            for c in range(len(self.data[0])):\n",
        "                row.append(self.data[r][c] - other.data[r][c])\n",
        "            result.append(row)\n",
        "        return result\n",
        "    def multiply(self, other):\n",
        "       if len(self.data[0]) != len(other.data):\n",
        "            raise ValueError(\"Matrix dimensions are not compatible for multiplication\")\n",
        "       else:\n",
        "        result = []\n",
        "        for r in range(len(self.data)):\n",
        "            row=[]\n",
        "            for c in range(len(other.data[0])):\n",
        "                total = 0\n",
        "                for i in range(len(other.data)):\n",
        "                    total += self.data[r][i] * other.data[i][c]\n",
        "                row.append(total)\n",
        "            result.append(row)\n",
        "        return result\n",
        "    def scalar_multiply(self, scalar):\n",
        "        result = []\n",
        "        for r in range(len(self.data)):\n",
        "            row=[]\n",
        "            for c in range(len(self.data[0])):\n",
        "                row.append(self.data[r][c] * scalar)\n",
        "            result.append(row)\n",
        "        return result\n",
        "    def transpose(self):\n",
        "        result = []\n",
        "        for c in range(len(self.data[0])):\n",
        "            row=[]\n",
        "            for r in range(len(self.data)):\n",
        "                row.append(self.data[r][c])\n",
        "            result.append(row)\n",
        "        return result\n",
        "    def determinant(self):\n",
        "        a=self.data[0][0]\n",
        "        b=self.data[0][1]\n",
        "        c=self.data[1][0]\n",
        "        d=self.data[1][1]\n",
        "        result = a*d - b*c\n",
        "        return result\n",
        "    def inverse(self):\n",
        "        a=self.data[0][0]\n",
        "        b=self.data[0][1]\n",
        "        c=self.data[1][0]\n",
        "        d=self.data[1][1]\n",
        "        det = self.determinant()\n",
        "        if det == 0:\n",
        "            raise ValueError(\"Matrix is not invertible\")\n",
        "        else:\n",
        "            result = [[d/det,-b/det],\n",
        "                      [-c/det,a/det]]\n",
        "            return result"
      ]
    },
    {
      "cell_type": "code",
      "execution_count": 45,
      "metadata": {
        "colab": {
          "base_uri": "https://localhost:8080/"
        },
        "id": "WlLC-OjTW7jr",
        "outputId": "c1c566e0-edac-4713-cb49-bf57f27d9ee9"
      },
      "outputs": [
        {
          "output_type": "stream",
          "name": "stdout",
          "text": [
            "m1 + m2: [[6, 8], [10, 12]]\n",
            "m1 - m2: [[-4, -4], [-4, -4]]\n",
            "m1 x m2: [[19, 22], [43, 50]]\n",
            "m1 muliplied by 2: [[2, 4], [6, 8]]\n",
            "m1 Transpose: [[1, 3], [2, 4]]\n",
            "m1 Determinant: -2\n",
            "m1 inverse: [[-2.0, 1.0], [1.5, -0.5]]\n"
          ]
        }
      ],
      "source": [
        "# Test with some matrix operations\n",
        "m1 = Matrix([[1, 2], [3, 4]]) # don't use numpy in this line\n",
        "m2 = Matrix([[5, 6], [7, 8]]) # don't use numpy in this line\n",
        "\n",
        "# TODO: Test matrix addition\n",
        "result = m1.add(m2)\n",
        "print(\"m1 + m2:\", result)\n",
        "\n",
        "# TODO: Test matrix sunstraction\n",
        "result = m1.subtract(m2)\n",
        "print(\"m1 - m2:\", result)\n",
        "\n",
        "# TODO: Test matrix multiplication\n",
        "result = m1.multiply(m2)\n",
        "print(\"m1 x m2:\", result)\n",
        "\n",
        "# TODO: Test scalar multiplication by 2\n",
        "result = m1.scalar_multiply(2)\n",
        "print(\"m1 muliplied by 2:\", result)\n",
        "\n",
        "# TODO: Test matrix transpose\n",
        "result = m1.transpose()\n",
        "print(\"m1 Transpose:\", result)\n",
        "\n",
        "# TODO: Test matrix determinant\n",
        "result = m1.determinant()\n",
        "print(\"m1 Determinant:\", result)\n",
        "\n",
        "# TODO: Test matrix inverse\n",
        "result = m1.inverse()\n",
        "print(\"m1 inverse:\", result)\n"
      ]
    }
  ],
  "metadata": {
    "kernelspec": {
      "display_name": "mlops-app",
      "language": "python",
      "name": "python3"
    },
    "language_info": {
      "name": "python",
      "version": "3.8.19"
    },
    "colab": {
      "provenance": []
    }
  },
  "nbformat": 4,
  "nbformat_minor": 0
}